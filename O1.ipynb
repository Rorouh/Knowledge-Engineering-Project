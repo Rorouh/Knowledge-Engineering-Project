{
 "cells": [
  {
   "cell_type": "markdown",
   "id": "2cd1cc80",
   "metadata": {},
   "source": [
    "# O1: Clasificacion del Fallecimiento\n",
    "\n",
    "El objetivo de esta seccion en el proyecto es **\"predecir si un paciente falleció a partir de las demas caracteristicas contenidas en el dataset\"**. Esta tarea es clave para poder identificar de manera rapida, con un modelo de clasificacion, a que pacientes se les requiere un seguimiento o intervencion con prioridad"
   ]
  },
  {
   "cell_type": "markdown",
   "id": "dec87bc4",
   "metadata": {},
   "source": [
    "### 1. Configuracion Inicial para el desarrollo del proyecto\n",
    "\n",
    "Para poder empezar a desarrollar el proyecto tenemos que configurar el entorno de trabajo instalando las bibliotecas necesarias requeridas:\n",
    "\n",
    "- Pandas: para lecutar y manopulacion del dataset\n",
    "\n",
    "- numpy: para operaciones numericas y manejo de arrays\n",
    "\n",
    "- scikit-learn: para poder crear y evaluar modelos mediante: clasificacion, regresion, validacion cruzada, ajuste de hiperparámetros.\n",
    "\n",
    "- matplotlib: para la visualizacion de los resultados y graficos\n",
    "\n"
   ]
  },
  {
   "cell_type": "markdown",
   "id": "7e4573ad",
   "metadata": {},
   "source": [
    "Primero instalamos las librerias mencionadas si no las tenemos instaladas"
   ]
  },
  {
   "cell_type": "markdown",
   "id": "1aef5a63",
   "metadata": {},
   "source": [
    "!pip install pandas numpy scikit-learn matplotlib"
   ]
  },
  {
   "cell_type": "markdown",
   "id": "9fa28b99",
   "metadata": {},
   "source": [
    "Posteriormente las importamos en nuestro proyecto para poder: cargar datos, transformarlos, dividirlos en conjuntos de entrenamiento y prueba y para luego modelarlos de forma sencilla"
   ]
  },
  {
   "cell_type": "code",
   "execution_count": 13,
   "id": "fb2f9d5c",
   "metadata": {},
   "outputs": [],
   "source": [
    "import pandas as pd\n",
    "import numpy as np\n",
    "import matplotlib.pyplot as plt\n",
    "\n",
    "from sklearn.model_selection import train_test_split, GridSearchCV\n",
    "from sklearn.linear_model import LogisticRegression, LinearRegression\n",
    "from sklearn.ensemble import RandomForestClassifier, RandomForestRegressor\n",
    "from sklearn.metrics import accuracy_score, classification_report, mean_squared_error, r2_score\n",
    "from sklearn.impute import SimpleImputer\n"
   ]
  },
  {
   "cell_type": "markdown",
   "id": "95463e72",
   "metadata": {},
   "source": [
    "### 2. Carga y Exploracion del Dataset\n",
    "\n",
    "Cargamos el archivo del dataset que queremos trabajar (en formato csv) e imprimimos las primeras lineas del dataset y la informacion general del DataFrame"
   ]
  },
  {
   "cell_type": "code",
   "execution_count": 14,
   "id": "66fadbec",
   "metadata": {},
   "outputs": [
    {
     "name": "stdout",
     "output_type": "stream",
     "text": [
      "   USMER  MEDICAL_UNIT  SEX  PATIENT_TYPE   DATE_DIED  INTUBED  PNEUMONIA  \\\n",
      "0      2            12    1             1  9999-99-99       97          2   \n",
      "1      2            12    2             1  9999-99-99       97          2   \n",
      "2      2             4    2             1  9999-99-99       97          2   \n",
      "3      2             9    1             1  9999-99-99       97          2   \n",
      "4      1            12    2             1  9999-99-99       97          2   \n",
      "\n",
      "   AGE  PREGNANT  DIABETES  ...  ASTHMA  INMSUPR  HYPERTENSION  OTHER_DISEASE  \\\n",
      "0   41         2         2  ...       2        2             2              2   \n",
      "1   57         2         1  ...       2        2             2              2   \n",
      "2   38         2         2  ...       2        2             2              2   \n",
      "3   68         2         2  ...       2        2             2              2   \n",
      "4   63         2         2  ...       2        2             1              2   \n",
      "\n",
      "   CARDIOVASCULAR  OBESITY  RENAL_CHRONIC  TOBACCO  TEST_RESULT  ICU  \n",
      "0               2        2              2        2            7   97  \n",
      "1               2        1              2        1            5   97  \n",
      "2               2        1              2        1            3   97  \n",
      "3               1        2              2        2            7   97  \n",
      "4               2        2              2        2            7   97  \n",
      "\n",
      "[5 rows x 21 columns]\n",
      "<class 'pandas.core.frame.DataFrame'>\n",
      "RangeIndex: 100000 entries, 0 to 99999\n",
      "Data columns (total 21 columns):\n",
      " #   Column          Non-Null Count   Dtype \n",
      "---  ------          --------------   ----- \n",
      " 0   USMER           100000 non-null  int64 \n",
      " 1   MEDICAL_UNIT    100000 non-null  int64 \n",
      " 2   SEX             100000 non-null  int64 \n",
      " 3   PATIENT_TYPE    100000 non-null  int64 \n",
      " 4   DATE_DIED       100000 non-null  object\n",
      " 5   INTUBED         100000 non-null  int64 \n",
      " 6   PNEUMONIA       100000 non-null  int64 \n",
      " 7   AGE             100000 non-null  int64 \n",
      " 8   PREGNANT        100000 non-null  int64 \n",
      " 9   DIABETES        100000 non-null  int64 \n",
      " 10  COPD            100000 non-null  int64 \n",
      " 11  ASTHMA          100000 non-null  int64 \n",
      " 12  INMSUPR         100000 non-null  int64 \n",
      " 13  HYPERTENSION    100000 non-null  int64 \n",
      " 14  OTHER_DISEASE   100000 non-null  int64 \n",
      " 15  CARDIOVASCULAR  100000 non-null  int64 \n",
      " 16  OBESITY         100000 non-null  int64 \n",
      " 17  RENAL_CHRONIC   100000 non-null  int64 \n",
      " 18  TOBACCO         100000 non-null  int64 \n",
      " 19  TEST_RESULT     100000 non-null  int64 \n",
      " 20  ICU             100000 non-null  int64 \n",
      "dtypes: int64(20), object(1)\n",
      "memory usage: 16.0+ MB\n",
      "None\n"
     ]
    }
   ],
   "source": [
    "# Leer el archivo CSV\n",
    "df = pd.read_csv(\"custom_covid19.csv\")\n",
    "\n",
    "# Mostrar las primeras filas para ver el contenido\n",
    "print(df.head())\n",
    "\n",
    "# Información general del DataFrame\n",
    "print(df.info())\n"
   ]
  },
  {
   "cell_type": "markdown",
   "id": "26a5d4dc",
   "metadata": {},
   "source": [
    "Podemos ver las principales lineas del dataset en las que cada columna tiene un rango de valor dependiendo de su tipo de variable.\n",
    "\n"
   ]
  },
  {
   "cell_type": "markdown",
   "id": "436ad92a",
   "metadata": {},
   "source": [
    "## 3. Procesamiento y Limpieza de Datos\n",
    "\n",
    "### 3.1 Crear la Variable \"Fallecido\"\n",
    "\n",
    "La columna \"DATE_DIED\" tiene el valor por defecto de \"9999-99-99\" cuando el paciente no esta fallecido, por lo que vamos a transformarla en una nueva variable binaria de valor 1 - yes ; 2 - no"
   ]
  },
  {
   "cell_type": "code",
   "execution_count": 15,
   "id": "3f4f1160",
   "metadata": {},
   "outputs": [],
   "source": [
    "df['Fallecido'] = df['DATE_DIED'].apply(lambda x: 2 if x == '9999-99-99' else 1)\n"
   ]
  },
  {
   "cell_type": "markdown",
   "id": "b7e132bf",
   "metadata": {},
   "source": [
    "Volvemos a imprimir las primeras filas del dataset para poder comprobar que se han asignado los valores de la columna \"fallecidoº\" correctamente"
   ]
  },
  {
   "cell_type": "code",
   "execution_count": 16,
   "id": "146f718b",
   "metadata": {},
   "outputs": [
    {
     "name": "stdout",
     "output_type": "stream",
     "text": [
      "   USMER  MEDICAL_UNIT  SEX  PATIENT_TYPE   DATE_DIED  INTUBED  PNEUMONIA  \\\n",
      "0      2            12    1             1  9999-99-99       97          2   \n",
      "1      2            12    2             1  9999-99-99       97          2   \n",
      "2      2             4    2             1  9999-99-99       97          2   \n",
      "3      2             9    1             1  9999-99-99       97          2   \n",
      "4      1            12    2             1  9999-99-99       97          2   \n",
      "\n",
      "   AGE  PREGNANT  DIABETES  ...  INMSUPR  HYPERTENSION  OTHER_DISEASE  \\\n",
      "0   41         2         2  ...        2             2              2   \n",
      "1   57         2         1  ...        2             2              2   \n",
      "2   38         2         2  ...        2             2              2   \n",
      "3   68         2         2  ...        2             2              2   \n",
      "4   63         2         2  ...        2             1              2   \n",
      "\n",
      "   CARDIOVASCULAR  OBESITY  RENAL_CHRONIC  TOBACCO  TEST_RESULT  ICU  \\\n",
      "0               2        2              2        2            7   97   \n",
      "1               2        1              2        1            5   97   \n",
      "2               2        1              2        1            3   97   \n",
      "3               1        2              2        2            7   97   \n",
      "4               2        2              2        2            7   97   \n",
      "\n",
      "   Fallecido  \n",
      "0          2  \n",
      "1          2  \n",
      "2          2  \n",
      "3          2  \n",
      "4          2  \n",
      "\n",
      "[5 rows x 22 columns]\n",
      "<class 'pandas.core.frame.DataFrame'>\n",
      "RangeIndex: 100000 entries, 0 to 99999\n",
      "Data columns (total 22 columns):\n",
      " #   Column          Non-Null Count   Dtype \n",
      "---  ------          --------------   ----- \n",
      " 0   USMER           100000 non-null  int64 \n",
      " 1   MEDICAL_UNIT    100000 non-null  int64 \n",
      " 2   SEX             100000 non-null  int64 \n",
      " 3   PATIENT_TYPE    100000 non-null  int64 \n",
      " 4   DATE_DIED       100000 non-null  object\n",
      " 5   INTUBED         100000 non-null  int64 \n",
      " 6   PNEUMONIA       100000 non-null  int64 \n",
      " 7   AGE             100000 non-null  int64 \n",
      " 8   PREGNANT        100000 non-null  int64 \n",
      " 9   DIABETES        100000 non-null  int64 \n",
      " 10  COPD            100000 non-null  int64 \n",
      " 11  ASTHMA          100000 non-null  int64 \n",
      " 12  INMSUPR         100000 non-null  int64 \n",
      " 13  HYPERTENSION    100000 non-null  int64 \n",
      " 14  OTHER_DISEASE   100000 non-null  int64 \n",
      " 15  CARDIOVASCULAR  100000 non-null  int64 \n",
      " 16  OBESITY         100000 non-null  int64 \n",
      " 17  RENAL_CHRONIC   100000 non-null  int64 \n",
      " 18  TOBACCO         100000 non-null  int64 \n",
      " 19  TEST_RESULT     100000 non-null  int64 \n",
      " 20  ICU             100000 non-null  int64 \n",
      " 21  Fallecido       100000 non-null  int64 \n",
      "dtypes: int64(21), object(1)\n",
      "memory usage: 16.8+ MB\n",
      "None\n"
     ]
    }
   ],
   "source": [
    "# Mostrar las primeras filas para ver el contenido\n",
    "print(df.head())\n",
    "\n",
    "# Información general del DataFrame\n",
    "print(df.info())"
   ]
  },
  {
   "cell_type": "markdown",
   "id": "72e572fd",
   "metadata": {},
   "source": [
    "### 3.2 Conversion de Variables Booleanas\n",
    "\n",
    "Existen variables en el dataset con valores de datos erroneos/perdidos por lo que tenemos que procesarlos de forma parecida a la nueva variable y establecer valores \"no determinados\".\n",
    "\n",
    "Por lo que vamos a establecer a los valores distintos a los correspondientes (1- yes , 2 - no) el valor no determinado \"np.nam\" a dichas variables"
   ]
  },
  {
   "cell_type": "code",
   "execution_count": 17,
   "id": "529d0c76",
   "metadata": {},
   "outputs": [],
   "source": [
    "colums = [\n",
    "    'USMER', 'INTUBED', 'PNEUMONIA', 'PREGNANT', 'DIABETES', \n",
    "    'COPD', 'ASTHMA', 'INMSUPR', 'HYPERTENSION', 'OTHER_DISEASE', \n",
    "    'CARDIOVASCULAR', 'OBESITY', 'RENAL_CHRONIC', 'TOBACCO', 'ICU'\n",
    "]\n",
    "\n",
    "for col in colums:\n",
    "    df[col] = df[col].replace({97: np.nan, 98: np.nan, 99: np.nan})\n"
   ]
  },
  {
   "cell_type": "markdown",
   "id": "d830c7b4",
   "metadata": {},
   "source": [
    "Mostramos los valores para ver si los cambios se han realizado correctamente"
   ]
  },
  {
   "cell_type": "code",
   "execution_count": 18,
   "id": "a795e7ae",
   "metadata": {},
   "outputs": [
    {
     "name": "stdout",
     "output_type": "stream",
     "text": [
      "   USMER  MEDICAL_UNIT  SEX  PATIENT_TYPE   DATE_DIED  INTUBED  PNEUMONIA  \\\n",
      "0      2            12    1             1  9999-99-99      NaN        2.0   \n",
      "1      2            12    2             1  9999-99-99      NaN        2.0   \n",
      "2      2             4    2             1  9999-99-99      NaN        2.0   \n",
      "3      2             9    1             1  9999-99-99      NaN        2.0   \n",
      "4      1            12    2             1  9999-99-99      NaN        2.0   \n",
      "\n",
      "   AGE  PREGNANT  DIABETES  ...  INMSUPR  HYPERTENSION  OTHER_DISEASE  \\\n",
      "0   41       2.0       2.0  ...      2.0           2.0            2.0   \n",
      "1   57       2.0       1.0  ...      2.0           2.0            2.0   \n",
      "2   38       2.0       2.0  ...      2.0           2.0            2.0   \n",
      "3   68       2.0       2.0  ...      2.0           2.0            2.0   \n",
      "4   63       2.0       2.0  ...      2.0           1.0            2.0   \n",
      "\n",
      "   CARDIOVASCULAR  OBESITY  RENAL_CHRONIC  TOBACCO  TEST_RESULT  ICU  \\\n",
      "0             2.0      2.0            2.0      2.0            7  NaN   \n",
      "1             2.0      1.0            2.0      1.0            5  NaN   \n",
      "2             2.0      1.0            2.0      1.0            3  NaN   \n",
      "3             1.0      2.0            2.0      2.0            7  NaN   \n",
      "4             2.0      2.0            2.0      2.0            7  NaN   \n",
      "\n",
      "   Fallecido  \n",
      "0          2  \n",
      "1          2  \n",
      "2          2  \n",
      "3          2  \n",
      "4          2  \n",
      "\n",
      "[5 rows x 22 columns]\n"
     ]
    }
   ],
   "source": [
    "# Mostrar las primeras filas para ver el contenido\n",
    "print(df.head())\n"
   ]
  },
  {
   "cell_type": "markdown",
   "id": "8d79c562",
   "metadata": {},
   "source": [
    "## 4. Modelado con la variable \"Fallecido\"\n",
    "\n",
    "Al haber generado el modelo de clasificacion del fallecido (O1), la variable objetivo es \"Fallecido\" con los valores binario (1- yes ; 2- no)\n",
    "\n",
    "### 4.1 Preparacion para la clasificaicion\n",
    "\n",
    "Extraemos 'X' e 'Y'\n"
   ]
  },
  {
   "cell_type": "code",
   "execution_count": 19,
   "id": "3e6e7bb9",
   "metadata": {},
   "outputs": [],
   "source": [
    "X = df.drop(columns=['DATE_DIED', 'Fallecido'])\n",
    "y = df['Fallecido']"
   ]
  },
  {
   "cell_type": "markdown",
   "id": "a3a5c446",
   "metadata": {},
   "source": [
    "### 4.2 Division de los datos y creacion del modelo\n",
    "\n",
    "Para crear el modelo, dividimos los datos y entrenamos el modelo."
   ]
  },
  {
   "cell_type": "code",
   "execution_count": 20,
   "id": "429f56e0",
   "metadata": {},
   "outputs": [
    {
     "name": "stdout",
     "output_type": "stream",
     "text": [
      "Mejores hiperparámetros: {'C': 10}\n",
      "Accuracy: 0.94645\n",
      "              precision    recall  f1-score   support\n",
      "\n",
      "           1       0.70      0.51      0.59      1523\n",
      "           2       0.96      0.98      0.97     18477\n",
      "\n",
      "    accuracy                           0.95     20000\n",
      "   macro avg       0.83      0.75      0.78     20000\n",
      "weighted avg       0.94      0.95      0.94     20000\n",
      "\n"
     ]
    }
   ],
   "source": [
    "\n",
    "# Dividir en conjuntos de entrenamiento y prueba\n",
    "X_train, X_test, y_train, y_test = train_test_split(X, y, test_size=0.2, random_state=42)\n",
    "\n",
    "# Crear un imputer. En este ejemplo usaremos 'most_frequent' ya que \n",
    "# es adecuado para variables categóricas o datos discretos.\n",
    "imputer = SimpleImputer(strategy='most_frequent')\n",
    "\n",
    "# Ajustar el imputer en X_train y transformar tanto X_train como X_test\n",
    "X_train_imputed = imputer.fit_transform(X_train)\n",
    "X_test_imputed = imputer.transform(X_test)\n",
    "\n",
    "# Entrenar un modelo de regresión logística y ajustar el hiperparámetro C\n",
    "param_grid = {'C': [0.1, 1, 10, 100]}\n",
    "model_lr = LogisticRegression(max_iter=1000)\n",
    "grid_lr = GridSearchCV(model_lr, param_grid, cv=5, scoring='accuracy')\n",
    "grid_lr.fit(X_train_imputed, y_train)\n",
    "\n",
    "# Predicciones y evaluación usando los datos imputados\n",
    "y_pred = grid_lr.predict(X_test_imputed)\n",
    "print(\"Mejores hiperparámetros:\", grid_lr.best_params_)\n",
    "print(\"Accuracy:\", accuracy_score(y_test, y_pred))\n",
    "print(classification_report(y_test, y_pred))\n"
   ]
  },
  {
   "cell_type": "markdown",
   "id": "622084a2",
   "metadata": {},
   "source": [
    "## 5. Evaluacion e Interpretacion del modelo de clasificacion obtenido\n",
    "\n",
    "### 5.1 Revision de los resultados\n",
    "\n",
    "Podemos observar que los pacientes que fallecieron (tipo 1) tiene una precision del 70% y un recall del 57%, no obstante, para los no fallecidos (tipo 2) los valores son muy altos con una precision del 96% y un recall del 98%.\n",
    "\n",
    "Esto indica que el modelo es muy bueno para poder identificar los pacientes que no fallecieron pero le cuesta predecir correctamente la clase de los fallecidos.\n",
    "\n",
    "Para poder ajustar este modelo, podems modificar el umbral de decision o cambiar de modelo de clasificacion (p.e: RandomForestClassifier) para intentar mejorar el recall (la sensibilidad) en el tipo 1 (fallecidos)\n",
    "\n"
   ]
  },
  {
   "cell_type": "markdown",
   "id": "836a6ece",
   "metadata": {},
   "source": [
    "A continuacion, vamos a cargar los archivos CSV de validacion dado para nuestro proyecto, los cuales mostraran un conjunto de pruebas a las que debemos someter nuestro modelo\n"
   ]
  },
  {
   "cell_type": "code",
   "execution_count": 21,
   "id": "aa278a50",
   "metadata": {},
   "outputs": [
    {
     "name": "stdout",
     "output_type": "stream",
     "text": [
      "   USMER  MEDICAL_UNIT  SEX  PATIENT_TYPE   DATE_DIED  INTUBED  PNEUMONIA  \\\n",
      "0      1            12    2             1  9999-99-99       97          2   \n",
      "1      2            12    2             1  9999-99-99       97          2   \n",
      "2      2            12    1             1  9999-99-99       97          2   \n",
      "3      1             4    2             1  9999-99-99       97          2   \n",
      "4      2             4    1             1  9999-99-99       97          2   \n",
      "\n",
      "   AGE  PREGNANT  DIABETES  ...  ASTHMA  INMSUPR  HYPERTENSION  OTHER_DISEASE  \\\n",
      "0   32         2         2  ...       2        2             2              2   \n",
      "1   37         2         2  ...       2        2             2              2   \n",
      "2   45         2         2  ...       2        2             2              2   \n",
      "3   49         2         2  ...       2        2             2              2   \n",
      "4   31         2         2  ...       2        2             2              2   \n",
      "\n",
      "   CARDIOVASCULAR  OBESITY  RENAL_CHRONIC  TOBACCO  TEST_RESULT  ICU  \n",
      "0               2        2              2        1            7   97  \n",
      "1               2        2              2        2            3   97  \n",
      "2               2        2              2        2            7   97  \n",
      "3               2        2              2        2            7   97  \n",
      "4               2        2              2        2            7   97  \n",
      "\n",
      "[5 rows x 21 columns]\n",
      "   IS_DEAD\n",
      "0        0\n",
      "1        0\n",
      "2        0\n",
      "3        0\n",
      "4        0\n"
     ]
    }
   ],
   "source": [
    "# Importa pandas si aún no lo has hecho\n",
    "import pandas as pd\n",
    "\n",
    "# Cargar el conjunto de prueba de características y las etiquetas verdaderas\n",
    "proj_test_data = pd.read_csv(\"proj-test-data.csv\")\n",
    "proj_test_class = pd.read_csv(\"proj-test-class.csv\")\n",
    "\n",
    "# Visualiza las primeras filas para revisar su estructura\n",
    "print(proj_test_data.head())\n",
    "print(proj_test_class.head())"
   ]
  },
  {
   "cell_type": "markdown",
   "id": "4c93d9b3",
   "metadata": {},
   "source": [
    "### 5.2 Preprocesamiento del conjunto de Prueba\n",
    "\n",
    "Para hacer que el modelo funcione, el conjunto de prueba debe de ser transformado al mismo formato al cual hemos transformado nuestro dataset base por el cual se basa nuestro modelo.\n",
    "\n",
    "Primero eliminamos la columna DATE_DIED:\n"
   ]
  },
  {
   "cell_type": "code",
   "execution_count": 22,
   "id": "79afc58b",
   "metadata": {},
   "outputs": [],
   "source": [
    "X_proj_test = proj_test_data.drop(columns=['DATE_DIED'])"
   ]
  },
  {
   "cell_type": "markdown",
   "id": "5766c5ac",
   "metadata": {},
   "source": [
    "Despues, tenemos que usar el mismo objeto \"imputer\" que hemos entreando para el conjunto de entrenamiento:"
   ]
  },
  {
   "cell_type": "code",
   "execution_count": 23,
   "id": "47ed8acb",
   "metadata": {},
   "outputs": [],
   "source": [
    "imputer = SimpleImputer(strategy='most_frequent')\n",
    "X_train_imputed = imputer.fit_transform(X_train)  "
   ]
  },
  {
   "cell_type": "markdown",
   "id": "5e00b2c1",
   "metadata": {},
   "source": [
    "Utilizamos este imputer para transformar el conjunto de pruebas:\n"
   ]
  },
  {
   "cell_type": "code",
   "execution_count": 24,
   "id": "ed4ddcfc",
   "metadata": {},
   "outputs": [],
   "source": [
    "X_proj_test_imputed = imputer.transform(X_proj_test)"
   ]
  },
  {
   "cell_type": "markdown",
   "id": "ec3cd8ec",
   "metadata": {},
   "source": [
    "### 5.3 Evaluacion del modelo de clasificacion\n",
    "\n",
    "Por ultimo, entrenamos el modelo(utilizando GridSearchCV; guardado en grid_lr) para predecir el resultado en los datos de prueba, el cual posteriormente compara las predicciones con las del archivo \"proj-test-class.csv\""
   ]
  },
  {
   "cell_type": "code",
   "execution_count": 25,
   "id": "2b6aacec",
   "metadata": {},
   "outputs": [
    {
     "name": "stdout",
     "output_type": "stream",
     "text": [
      "Accuracy en el conjunto de prueba independiente: 0.04\n",
      "              precision    recall  f1-score   support\n",
      "\n",
      "           0       0.00      0.00      0.00        93\n",
      "           1       0.80      0.57      0.67         7\n",
      "           2       0.00      0.00      0.00         0\n",
      "\n",
      "    accuracy                           0.04       100\n",
      "   macro avg       0.27      0.19      0.22       100\n",
      "weighted avg       0.06      0.04      0.05       100\n",
      "\n"
     ]
    },
    {
     "name": "stderr",
     "output_type": "stream",
     "text": [
      "c:\\Users\\super\\AppData\\Local\\Programs\\Python\\Python312\\Lib\\site-packages\\sklearn\\metrics\\_classification.py:1565: UndefinedMetricWarning: Precision is ill-defined and being set to 0.0 in labels with no predicted samples. Use `zero_division` parameter to control this behavior.\n",
      "  _warn_prf(average, modifier, f\"{metric.capitalize()} is\", len(result))\n",
      "c:\\Users\\super\\AppData\\Local\\Programs\\Python\\Python312\\Lib\\site-packages\\sklearn\\metrics\\_classification.py:1565: UndefinedMetricWarning: Recall is ill-defined and being set to 0.0 in labels with no true samples. Use `zero_division` parameter to control this behavior.\n",
      "  _warn_prf(average, modifier, f\"{metric.capitalize()} is\", len(result))\n",
      "c:\\Users\\super\\AppData\\Local\\Programs\\Python\\Python312\\Lib\\site-packages\\sklearn\\metrics\\_classification.py:1565: UndefinedMetricWarning: Precision is ill-defined and being set to 0.0 in labels with no predicted samples. Use `zero_division` parameter to control this behavior.\n",
      "  _warn_prf(average, modifier, f\"{metric.capitalize()} is\", len(result))\n",
      "c:\\Users\\super\\AppData\\Local\\Programs\\Python\\Python312\\Lib\\site-packages\\sklearn\\metrics\\_classification.py:1565: UndefinedMetricWarning: Recall is ill-defined and being set to 0.0 in labels with no true samples. Use `zero_division` parameter to control this behavior.\n",
      "  _warn_prf(average, modifier, f\"{metric.capitalize()} is\", len(result))\n",
      "c:\\Users\\super\\AppData\\Local\\Programs\\Python\\Python312\\Lib\\site-packages\\sklearn\\metrics\\_classification.py:1565: UndefinedMetricWarning: Precision is ill-defined and being set to 0.0 in labels with no predicted samples. Use `zero_division` parameter to control this behavior.\n",
      "  _warn_prf(average, modifier, f\"{metric.capitalize()} is\", len(result))\n",
      "c:\\Users\\super\\AppData\\Local\\Programs\\Python\\Python312\\Lib\\site-packages\\sklearn\\metrics\\_classification.py:1565: UndefinedMetricWarning: Recall is ill-defined and being set to 0.0 in labels with no true samples. Use `zero_division` parameter to control this behavior.\n",
      "  _warn_prf(average, modifier, f\"{metric.capitalize()} is\", len(result))\n"
     ]
    }
   ],
   "source": [
    "\n",
    "y_proj_pred = grid_lr.predict(X_proj_test_imputed)\n",
    "\n",
    "print(\"Accuracy en el conjunto de prueba independiente:\", accuracy_score(proj_test_class, y_proj_pred))\n",
    "print(classification_report(proj_test_class, y_proj_pred))\n"
   ]
  }
 ],
 "metadata": {
  "kernelspec": {
   "display_name": "Python 3",
   "language": "python",
   "name": "python3"
  },
  "language_info": {
   "codemirror_mode": {
    "name": "ipython",
    "version": 3
   },
   "file_extension": ".py",
   "mimetype": "text/x-python",
   "name": "python",
   "nbconvert_exporter": "python",
   "pygments_lexer": "ipython3",
   "version": "3.12.0"
  }
 },
 "nbformat": 4,
 "nbformat_minor": 5
}
