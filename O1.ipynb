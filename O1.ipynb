{
 "cells": [
  {
   "cell_type": "markdown",
   "id": "2cd1cc80",
   "metadata": {},
   "source": [
    "# O1: Clasificacion del Fallecimiento\n",
    "\n",
    "El objetivo de esta seccion en el proyecto es **\"predecir si un paciente falleció a partir de las demas caracteristicas contenidas en el dataset\"**. Esta tarea es clave para poder identificar de manera rapida, con un modelo de clasificacion, a que pacientes se les requiere un seguimiento o intervencion con prioridad"
   ]
  },
  {
   "cell_type": "markdown",
   "id": "dec87bc4",
   "metadata": {},
   "source": [
    "### 1. Configuracion Inicial para el desarrollo del proyecto\n",
    "\n",
    "Para poder empezar a desarrollar el proyecto tenemos que configurar el entorno de trabajo instalando las bibliotecas necesarias requeridas:\n",
    "\n",
    "- Pandas: para lecutar y manopulacion del dataset\n",
    "\n",
    "- numpy: para operaciones numericas y manejo de arrays\n",
    "\n",
    "- scikit-learn: para poder crear y evaluar modelos mediante: clasificacion, regresion, validacion cruzada, ajuste de hiperparámetros.\n",
    "\n",
    "- matplotlib: para la visualizacion de los resultados y graficos\n",
    "\n"
   ]
  },
  {
   "cell_type": "markdown",
   "id": "7e4573ad",
   "metadata": {},
   "source": [
    "Primero instalamos las librerias mencionadas si no las tenemos instaladas"
   ]
  },
  {
   "cell_type": "markdown",
   "id": "1aef5a63",
   "metadata": {},
   "source": [
    "!pip install pandas numpy scikit-learn matplotlib"
   ]
  },
  {
   "cell_type": "markdown",
   "id": "9fa28b99",
   "metadata": {},
   "source": [
    "Posteriormente las importamos en nuestro proyecto para poder: cargar datos, transformarlos, dividirlos en conjuntos de entrenamiento y prueba y para luego modelarlos de forma sencilla"
   ]
  },
  {
   "cell_type": "code",
   "execution_count": 1,
   "id": "fb2f9d5c",
   "metadata": {},
   "outputs": [],
   "source": [
    "import pandas as pd\n",
    "import numpy as np\n",
    "import matplotlib.pyplot as plt\n",
    "\n",
    "from sklearn.model_selection import train_test_split, GridSearchCV\n",
    "from sklearn.linear_model import LogisticRegression, LinearRegression\n",
    "from sklearn.neighbors import KNeighborsClassifier\n",
    "from sklearn.ensemble import RandomForestClassifier, RandomForestRegressor\n",
    "from sklearn.metrics import accuracy_score, classification_report, mean_squared_error, r2_score\n",
    "from sklearn.impute import SimpleImputer\n"
   ]
  },
  {
   "cell_type": "markdown",
   "id": "95463e72",
   "metadata": {},
   "source": [
    "### 2. Carga y Exploracion del Dataset\n",
    "\n",
    "Cargamos el archivo del dataset que queremos trabajar (en formato csv) e imprimimos las primeras lineas del dataset y la informacion general del DataFrame"
   ]
  },
  {
   "cell_type": "code",
   "execution_count": 2,
   "id": "66fadbec",
   "metadata": {},
   "outputs": [
    {
     "name": "stdout",
     "output_type": "stream",
     "text": [
      "   USMER  MEDICAL_UNIT  SEX  PATIENT_TYPE   DATE_DIED  INTUBED  PNEUMONIA  \\\n",
      "0      2            12    1             1  9999-99-99       97          2   \n",
      "1      2            12    2             1  9999-99-99       97          2   \n",
      "2      2             4    2             1  9999-99-99       97          2   \n",
      "3      2             9    1             1  9999-99-99       97          2   \n",
      "4      1            12    2             1  9999-99-99       97          2   \n",
      "\n",
      "   AGE  PREGNANT  DIABETES  ...  ASTHMA  INMSUPR  HYPERTENSION  OTHER_DISEASE  \\\n",
      "0   41         2         2  ...       2        2             2              2   \n",
      "1   57         2         1  ...       2        2             2              2   \n",
      "2   38         2         2  ...       2        2             2              2   \n",
      "3   68         2         2  ...       2        2             2              2   \n",
      "4   63         2         2  ...       2        2             1              2   \n",
      "\n",
      "   CARDIOVASCULAR  OBESITY  RENAL_CHRONIC  TOBACCO  TEST_RESULT  ICU  \n",
      "0               2        2              2        2            7   97  \n",
      "1               2        1              2        1            5   97  \n",
      "2               2        1              2        1            3   97  \n",
      "3               1        2              2        2            7   97  \n",
      "4               2        2              2        2            7   97  \n",
      "\n",
      "[5 rows x 21 columns]\n",
      "<class 'pandas.core.frame.DataFrame'>\n",
      "RangeIndex: 100000 entries, 0 to 99999\n",
      "Data columns (total 21 columns):\n",
      " #   Column          Non-Null Count   Dtype \n",
      "---  ------          --------------   ----- \n",
      " 0   USMER           100000 non-null  int64 \n",
      " 1   MEDICAL_UNIT    100000 non-null  int64 \n",
      " 2   SEX             100000 non-null  int64 \n",
      " 3   PATIENT_TYPE    100000 non-null  int64 \n",
      " 4   DATE_DIED       100000 non-null  object\n",
      " 5   INTUBED         100000 non-null  int64 \n",
      " 6   PNEUMONIA       100000 non-null  int64 \n",
      " 7   AGE             100000 non-null  int64 \n",
      " 8   PREGNANT        100000 non-null  int64 \n",
      " 9   DIABETES        100000 non-null  int64 \n",
      " 10  COPD            100000 non-null  int64 \n",
      " 11  ASTHMA          100000 non-null  int64 \n",
      " 12  INMSUPR         100000 non-null  int64 \n",
      " 13  HYPERTENSION    100000 non-null  int64 \n",
      " 14  OTHER_DISEASE   100000 non-null  int64 \n",
      " 15  CARDIOVASCULAR  100000 non-null  int64 \n",
      " 16  OBESITY         100000 non-null  int64 \n",
      " 17  RENAL_CHRONIC   100000 non-null  int64 \n",
      " 18  TOBACCO         100000 non-null  int64 \n",
      " 19  TEST_RESULT     100000 non-null  int64 \n",
      " 20  ICU             100000 non-null  int64 \n",
      "dtypes: int64(20), object(1)\n",
      "memory usage: 16.0+ MB\n",
      "None\n"
     ]
    }
   ],
   "source": [
    "# Leer el archivo CSV\n",
    "df = pd.read_csv(\"custom_covid19.csv\")\n",
    "\n",
    "# Mostrar las primeras filas para ver el contenido\n",
    "print(df.head())\n",
    "\n",
    "# Información general del DataFrame\n",
    "print(df.info())\n"
   ]
  },
  {
   "cell_type": "markdown",
   "id": "26a5d4dc",
   "metadata": {},
   "source": [
    "Podemos ver las principales lineas del dataset en las que cada columna tiene un rango de valor dependiendo de su tipo de variable.\n",
    "\n"
   ]
  },
  {
   "cell_type": "markdown",
   "id": "436ad92a",
   "metadata": {},
   "source": [
    "## 3. Procesamiento y Limpieza de Datos\n",
    "\n",
    "### 3.1 Crear la Variable \"Fallecido\"\n",
    "\n",
    "La columna \"DATE_DIED\" tiene el valor por defecto de \"9999-99-99\" cuando el paciente no esta fallecido, por lo que vamos a transformarla en una nueva variable binaria de valor 1 - yes ; 2 - no"
   ]
  },
  {
   "cell_type": "code",
   "execution_count": 3,
   "id": "3f4f1160",
   "metadata": {},
   "outputs": [],
   "source": [
    "df['Fallecido'] = df['DATE_DIED'].apply(lambda x: 2 if x == '9999-99-99' else 1)\n"
   ]
  },
  {
   "cell_type": "markdown",
   "id": "b7e132bf",
   "metadata": {},
   "source": [
    "Volvemos a imprimir las primeras filas del dataset para poder comprobar que se han asignado los valores de la columna \"fallecido\" correctamente"
   ]
  },
  {
   "cell_type": "code",
   "execution_count": 4,
   "id": "146f718b",
   "metadata": {},
   "outputs": [
    {
     "name": "stdout",
     "output_type": "stream",
     "text": [
      "   USMER  MEDICAL_UNIT  SEX  PATIENT_TYPE   DATE_DIED  INTUBED  PNEUMONIA  \\\n",
      "0      2            12    1             1  9999-99-99       97          2   \n",
      "1      2            12    2             1  9999-99-99       97          2   \n",
      "2      2             4    2             1  9999-99-99       97          2   \n",
      "3      2             9    1             1  9999-99-99       97          2   \n",
      "4      1            12    2             1  9999-99-99       97          2   \n",
      "\n",
      "   AGE  PREGNANT  DIABETES  ...  INMSUPR  HYPERTENSION  OTHER_DISEASE  \\\n",
      "0   41         2         2  ...        2             2              2   \n",
      "1   57         2         1  ...        2             2              2   \n",
      "2   38         2         2  ...        2             2              2   \n",
      "3   68         2         2  ...        2             2              2   \n",
      "4   63         2         2  ...        2             1              2   \n",
      "\n",
      "   CARDIOVASCULAR  OBESITY  RENAL_CHRONIC  TOBACCO  TEST_RESULT  ICU  \\\n",
      "0               2        2              2        2            7   97   \n",
      "1               2        1              2        1            5   97   \n",
      "2               2        1              2        1            3   97   \n",
      "3               1        2              2        2            7   97   \n",
      "4               2        2              2        2            7   97   \n",
      "\n",
      "   Fallecido  \n",
      "0          2  \n",
      "1          2  \n",
      "2          2  \n",
      "3          2  \n",
      "4          2  \n",
      "\n",
      "[5 rows x 22 columns]\n",
      "<class 'pandas.core.frame.DataFrame'>\n",
      "RangeIndex: 100000 entries, 0 to 99999\n",
      "Data columns (total 22 columns):\n",
      " #   Column          Non-Null Count   Dtype \n",
      "---  ------          --------------   ----- \n",
      " 0   USMER           100000 non-null  int64 \n",
      " 1   MEDICAL_UNIT    100000 non-null  int64 \n",
      " 2   SEX             100000 non-null  int64 \n",
      " 3   PATIENT_TYPE    100000 non-null  int64 \n",
      " 4   DATE_DIED       100000 non-null  object\n",
      " 5   INTUBED         100000 non-null  int64 \n",
      " 6   PNEUMONIA       100000 non-null  int64 \n",
      " 7   AGE             100000 non-null  int64 \n",
      " 8   PREGNANT        100000 non-null  int64 \n",
      " 9   DIABETES        100000 non-null  int64 \n",
      " 10  COPD            100000 non-null  int64 \n",
      " 11  ASTHMA          100000 non-null  int64 \n",
      " 12  INMSUPR         100000 non-null  int64 \n",
      " 13  HYPERTENSION    100000 non-null  int64 \n",
      " 14  OTHER_DISEASE   100000 non-null  int64 \n",
      " 15  CARDIOVASCULAR  100000 non-null  int64 \n",
      " 16  OBESITY         100000 non-null  int64 \n",
      " 17  RENAL_CHRONIC   100000 non-null  int64 \n",
      " 18  TOBACCO         100000 non-null  int64 \n",
      " 19  TEST_RESULT     100000 non-null  int64 \n",
      " 20  ICU             100000 non-null  int64 \n",
      " 21  Fallecido       100000 non-null  int64 \n",
      "dtypes: int64(21), object(1)\n",
      "memory usage: 16.8+ MB\n",
      "None\n"
     ]
    }
   ],
   "source": [
    "# Mostrar las primeras filas para ver el contenido\n",
    "print(df.head())\n",
    "\n",
    "# Información general del DataFrame\n",
    "print(df.info())\n"
   ]
  },
  {
   "cell_type": "markdown",
   "id": "72e572fd",
   "metadata": {},
   "source": [
    "### 3.2 Conversion de Variables Booleanas\n",
    "\n",
    "Existen variables en el dataset con valores de datos erroneos/perdidos por lo que tenemos que procesarlos de forma parecida a la nueva variable y establecer valores \"no determinados\".\n",
    "\n",
    "Por lo que vamos a establecer a los valores distintos a los correspondientes (1- yes , 2 - no) el valor no determinado \"np.nan\" a dichas variables"
   ]
  },
  {
   "cell_type": "code",
   "execution_count": 5,
   "id": "529d0c76",
   "metadata": {},
   "outputs": [],
   "source": [
    "columns = [\n",
    "    'USMER', 'INTUBED', 'PNEUMONIA', 'PREGNANT', 'DIABETES', \n",
    "    'COPD', 'ASTHMA', 'INMSUPR', 'HYPERTENSION', 'OTHER_DISEASE', \n",
    "    'CARDIOVASCULAR', 'OBESITY', 'RENAL_CHRONIC', 'TOBACCO', 'ICU'\n",
    "]\n",
    "\n",
    "for col in columns:\n",
    "    df[col] = df[col].replace({97: np.nan, 98: np.nan, 99: np.nan})\n"
   ]
  },
  {
   "cell_type": "markdown",
   "id": "61747cd3",
   "metadata": {},
   "source": [
    "Mostramos los valores para ver si los cambios se han realizado correctamente"
   ]
  },
  {
   "cell_type": "code",
   "execution_count": 6,
   "id": "62b15162",
   "metadata": {},
   "outputs": [
    {
     "name": "stdout",
     "output_type": "stream",
     "text": [
      "   USMER  MEDICAL_UNIT  SEX  PATIENT_TYPE   DATE_DIED  INTUBED  PNEUMONIA  \\\n",
      "0      2            12    1             1  9999-99-99      NaN        2.0   \n",
      "1      2            12    2             1  9999-99-99      NaN        2.0   \n",
      "2      2             4    2             1  9999-99-99      NaN        2.0   \n",
      "3      2             9    1             1  9999-99-99      NaN        2.0   \n",
      "4      1            12    2             1  9999-99-99      NaN        2.0   \n",
      "\n",
      "   AGE  PREGNANT  DIABETES  ...  INMSUPR  HYPERTENSION  OTHER_DISEASE  \\\n",
      "0   41       2.0       2.0  ...      2.0           2.0            2.0   \n",
      "1   57       2.0       1.0  ...      2.0           2.0            2.0   \n",
      "2   38       2.0       2.0  ...      2.0           2.0            2.0   \n",
      "3   68       2.0       2.0  ...      2.0           2.0            2.0   \n",
      "4   63       2.0       2.0  ...      2.0           1.0            2.0   \n",
      "\n",
      "   CARDIOVASCULAR  OBESITY  RENAL_CHRONIC  TOBACCO  TEST_RESULT  ICU  \\\n",
      "0             2.0      2.0            2.0      2.0            7  NaN   \n",
      "1             2.0      1.0            2.0      1.0            5  NaN   \n",
      "2             2.0      1.0            2.0      1.0            3  NaN   \n",
      "3             1.0      2.0            2.0      2.0            7  NaN   \n",
      "4             2.0      2.0            2.0      2.0            7  NaN   \n",
      "\n",
      "   Fallecido  \n",
      "0          2  \n",
      "1          2  \n",
      "2          2  \n",
      "3          2  \n",
      "4          2  \n",
      "\n",
      "[5 rows x 22 columns]\n"
     ]
    }
   ],
   "source": [
    "# Mostrar las primeras filas para ver el contenido\n",
    "print(df.head())"
   ]
  },
  {
   "cell_type": "markdown",
   "id": "19ccc7cb",
   "metadata": {},
   "source": [
    "### 3.3 Deteccion de outliers\n",
    "\n",
    "Vamos a buscar outliers en las características continuas, en este caso, en AGE"
   ]
  },
  {
   "cell_type": "code",
   "execution_count": 7,
   "id": "f0811109",
   "metadata": {},
   "outputs": [
    {
     "data": {
      "image/png": "[encoded data removed]",
      "text/plain": [
       "<Figure size 640x480 with 1 Axes>"
      ]
     },
     "metadata": {},
     "output_type": "display_data"
    }
   ],
   "source": [
    "import matplotlib.pyplot as plt\n",
    "\n",
    "plt.boxplot(df['AGE'])\n",
    "plt.show()"
   ]
  },
  {
   "cell_type": "markdown",
   "id": "8c9369da",
   "metadata": {},
   "source": [
    "Vemos una gran cantidad de outliers, aunque es realista que haya personas de 90-100 años. Pero, no es realista que haya personas de 110-120 años. Estas instancias las eliminaremos"
   ]
  },
  {
   "cell_type": "code",
   "execution_count": 8,
   "id": "7ded851f",
   "metadata": {},
   "outputs": [
    {
     "data": {
      "text/plain": [
       "AGE\n",
       "30     2603\n",
       "32     2450\n",
       "31     2429\n",
       "28     2421\n",
       "34     2414\n",
       "       ... \n",
       "100       4\n",
       "103       4\n",
       "101       3\n",
       "102       3\n",
       "104       2\n",
       "Name: count, Length: 105, dtype: int64"
      ]
     },
     "execution_count": 8,
     "metadata": {},
     "output_type": "execute_result"
    }
   ],
   "source": [
    "df = df[df['AGE'] < 110]\n",
    "\n",
    "df.value_counts('AGE')\n",
    "\n"
   ]
  },
  {
   "cell_type": "markdown",
   "id": "8d79c562",
   "metadata": {},
   "source": [
    "## 4. Modelado con la variable \"Fallecido\"\n",
    "\n",
    "Al haber generado el modelo de clasificacion del fallecido (O1), la variable objetivo es \"Fallecido\" con los valores binario (1- yes ; 2- no)\n",
    "\n",
    "### 4.1 Preparacion para la clasificaicion\n",
    "\n",
    "Extraemos 'X' e 'Y'\n"
   ]
  },
  {
   "cell_type": "code",
   "execution_count": 9,
   "id": "3e6e7bb9",
   "metadata": {},
   "outputs": [],
   "source": [
    "X = df.drop(columns=['DATE_DIED', 'Fallecido'])\n",
    "y = df['Fallecido']\n"
   ]
  },
  {
   "cell_type": "markdown",
   "id": "12980c15",
   "metadata": {},
   "source": [
    "Vamos a ver como se divide y"
   ]
  },
  {
   "cell_type": "code",
   "execution_count": 10,
   "id": "71315fc5",
   "metadata": {},
   "outputs": [
    {
     "data": {
      "text/plain": [
       "Fallecido\n",
       "2    92659\n",
       "1     7338\n",
       "Name: count, dtype: int64"
      ]
     },
     "execution_count": 10,
     "metadata": {},
     "output_type": "execute_result"
    }
   ],
   "source": [
    "df.value_counts('Fallecido')"
   ]
  },
  {
   "cell_type": "markdown",
   "id": "fd531c18",
   "metadata": {},
   "source": [
    "Se observa un gran desequilibrio en el número de fallecidos respecto a los no fallecidos. Este desbalance puede afectar negativamente al rendimiento del modelo, ya que al entrenarse mayoritariamente con instancias de personas no fallecidas, podría sesgarse hacia la clase mayoritaria, resultando en una menor capacidad de predicción para la clase minoritaria (fallecidos). Por ello usaremos class_weight = balanced"
   ]
  },
  {
   "cell_type": "code",
   "execution_count": 11,
   "id": "9b749d35",
   "metadata": {},
   "outputs": [],
   "source": [
    "def train_model(x, y, param_grid, model, scoring):\n",
    "    grid_search = GridSearchCV(estimator=model, param_grid=param_grid, cv=5,  scoring=scoring, n_jobs=-1)  \n",
    "    grid_search.fit(x,y)\n",
    "    return grid_search"
   ]
  },
  {
   "cell_type": "markdown",
   "id": "a3a5c446",
   "metadata": {},
   "source": [
    "### 4.2 Division de los datos y creacion del modelo\n",
    "\n",
    "Para crear el modelo, dividimos los datos y entrenamos el modelo."
   ]
  },
  {
   "cell_type": "code",
   "execution_count": 12,
   "id": "429f56e0",
   "metadata": {},
   "outputs": [],
   "source": [
    "\n",
    "# Dividir en conjuntos de entrenamiento y prueba\n",
    "X_train, X_test, y_train, y_test = train_test_split(X, y, test_size=0.2, random_state=0)\n",
    "\n",
    "# Crear un imputer. En este ejemplo usaremos 'most_frequent' ya que \n",
    "# es adecuado para variables categóricas o datos discretos.\n",
    "imputer = SimpleImputer(strategy='most_frequent')\n",
    "\n",
    "# Ajustar el imputer en X_train y transformar tanto X_train como X_test\n",
    "X_train_imputed = imputer.fit_transform(X_train)\n",
    "X_test_imputed = imputer.transform(X_test)\n"
   ]
  },
  {
   "cell_type": "markdown",
   "id": "a8b7909f",
   "metadata": {},
   "source": [
    "Empezaremos optimizando 'accuracy' para ver como se comporta el modelo"
   ]
  },
  {
   "cell_type": "code",
   "execution_count": 13,
   "id": "1c038cc3",
   "metadata": {},
   "outputs": [
    {
     "name": "stdout",
     "output_type": "stream",
     "text": [
      "Scoring optimizado:  accuracy\n",
      "Mejores hiperparámetros: {'C': 0.1, 'class_weight': None}\n",
      "Accuracy: 0.9471\n",
      "              precision    recall  f1-score   support\n",
      "\n",
      "           1       0.73      0.47      0.57      1506\n",
      "           2       0.96      0.99      0.97     18494\n",
      "\n",
      "    accuracy                           0.95     20000\n",
      "   macro avg       0.84      0.73      0.77     20000\n",
      "weighted avg       0.94      0.95      0.94     20000\n",
      "\n",
      "Scoring optimizado:  recall\n",
      "Mejores hiperparámetros: {'C': 0.1, 'class_weight': 'balanced'}\n",
      "Accuracy: 0.90075\n",
      "              precision    recall  f1-score   support\n",
      "\n",
      "           1       0.43      0.92      0.58      1506\n",
      "           2       0.99      0.90      0.94     18494\n",
      "\n",
      "    accuracy                           0.90     20000\n",
      "   macro avg       0.71      0.91      0.76     20000\n",
      "weighted avg       0.95      0.90      0.92     20000\n",
      "\n",
      "Scoring optimizado:  precision\n",
      "Mejores hiperparámetros: {'C': 0.1, 'class_weight': None}\n",
      "Accuracy: 0.9471\n",
      "              precision    recall  f1-score   support\n",
      "\n",
      "           1       0.73      0.47      0.57      1506\n",
      "           2       0.96      0.99      0.97     18494\n",
      "\n",
      "    accuracy                           0.95     20000\n",
      "   macro avg       0.84      0.73      0.77     20000\n",
      "weighted avg       0.94      0.95      0.94     20000\n",
      "\n",
      "Scoring optimizado:  f1\n",
      "Mejores hiperparámetros: {'C': 1, 'class_weight': None}\n",
      "Accuracy: 0.94715\n",
      "              precision    recall  f1-score   support\n",
      "\n",
      "           1       0.73      0.47      0.57      1506\n",
      "           2       0.96      0.99      0.97     18494\n",
      "\n",
      "    accuracy                           0.95     20000\n",
      "   macro avg       0.84      0.73      0.77     20000\n",
      "weighted avg       0.94      0.95      0.94     20000\n",
      "\n"
     ]
    }
   ],
   "source": [
    "# Entrenar un modelo de regresión logística y ajustar el hiperparámetro C\n",
    "#Además usamos class_weight = balanced \n",
    "scoring = ['accuracy', 'recall', 'precision', 'f1']\n",
    "models = []\n",
    "param_grid = {'C': [0.1, 1, 10, 100], 'class_weight': [None, 'balanced']}\n",
    "for sc in scoring:\n",
    "    model_lr = LogisticRegression(max_iter=1000, n_jobs=-1)\n",
    "    grid_lr = train_model(X_train_imputed, y_train, param_grid, model_lr, sc)\n",
    "    model_lr = grid_lr.best_estimator_\n",
    "    models.append(model_lr)\n",
    "    # Predicciones y evaluación usando los datos imputados\n",
    "    print(\"Scoring optimizado: \", sc)\n",
    "    y_pred = model_lr.predict(X_test_imputed)\n",
    "    print(\"Mejores hiperparámetros:\", grid_lr.best_params_)\n",
    "    print(\"Accuracy:\", accuracy_score(y_test, y_pred))\n",
    "    print(classification_report(y_test, y_pred))\n",
    "\n"
   ]
  },
  {
   "cell_type": "markdown",
   "id": "622084a2",
   "metadata": {},
   "source": [
    "## 5. Evaluacion e Interpretacion del modelo de clasificacion obtenido\n",
    "\n",
    "### 5.1 Revision de los resultados y eleccion de modelo\n",
    "\n",
    "Al optimizar accuracy, precision y f1-score podemos observar que los pacientes que fallecieron (tipo 1) tiene una precision del 73% y un recall del 47%, no obstante, para los no fallecidos (tipo 2) los valores son muy altos con una precision del 96% y un recall del 99%.\n",
    "\n",
    "Esto indica que el modelo es muy bueno para poder identificar los pacientes que no fallecieron pero le cuesta predecir correctamente la clase de los fallecidos.\n",
    "\n",
    "En cambio, al optimizar el recall, se logró detectar el 92% de los fallecimientos reales, aunque a costa de una menor precisión (43%) y un descenso en la precisión global a un 90%.\n",
    "\n",
    "En el contexto de este problema, es preferible detectar la mayoría de los fallecimientos, incluso si eso implica cometer más falsos positivos.\n",
    "Es más grave predecir que un paciente sobrevivirá y que finalmente fallezca (falso negativo), que predecir que morirá y que finalmente sobreviva (falso positivo).\n",
    "\n",
    "Por tanto, priorizar el recall permite reducir los falsos negativos, lo cual es crítico cuando se trata de identificar a personas en riesgo.\n",
    "\n",
    "Para poder ajustar este modelo, podemos modificar el umbral de decision o cambiar de modelo de clasificacion para intentar mejorar el recall y precision.\n",
    "\n"
   ]
  },
  {
   "cell_type": "code",
   "execution_count": 14,
   "id": "c3f94010",
   "metadata": {},
   "outputs": [],
   "source": [
    "model_lr = models[1]\n"
   ]
  },
  {
   "cell_type": "markdown",
   "id": "836a6ece",
   "metadata": {},
   "source": [
    "A continuacion, vamos a cargar los archivos CSV de validacion dado para nuestro proyecto, los cuales mostraran un conjunto de pruebas a las que debemos someter nuestro modelo\n"
   ]
  },
  {
   "cell_type": "code",
   "execution_count": 15,
   "id": "aa278a50",
   "metadata": {},
   "outputs": [
    {
     "name": "stdout",
     "output_type": "stream",
     "text": [
      "   USMER  MEDICAL_UNIT  SEX  PATIENT_TYPE   DATE_DIED  INTUBED  PNEUMONIA  \\\n",
      "0      1            12    2             1  9999-99-99       97          2   \n",
      "1      2            12    2             1  9999-99-99       97          2   \n",
      "2      2            12    1             1  9999-99-99       97          2   \n",
      "3      1             4    2             1  9999-99-99       97          2   \n",
      "4      2             4    1             1  9999-99-99       97          2   \n",
      "\n",
      "   AGE  PREGNANT  DIABETES  ...  ASTHMA  INMSUPR  HYPERTENSION  OTHER_DISEASE  \\\n",
      "0   32         2         2  ...       2        2             2              2   \n",
      "1   37         2         2  ...       2        2             2              2   \n",
      "2   45         2         2  ...       2        2             2              2   \n",
      "3   49         2         2  ...       2        2             2              2   \n",
      "4   31         2         2  ...       2        2             2              2   \n",
      "\n",
      "   CARDIOVASCULAR  OBESITY  RENAL_CHRONIC  TOBACCO  TEST_RESULT  ICU  \n",
      "0               2        2              2        1            7   97  \n",
      "1               2        2              2        2            3   97  \n",
      "2               2        2              2        2            7   97  \n",
      "3               2        2              2        2            7   97  \n",
      "4               2        2              2        2            7   97  \n",
      "\n",
      "[5 rows x 21 columns]\n",
      "   IS_DEAD\n",
      "0        2\n",
      "1        2\n",
      "2        2\n",
      "3        2\n",
      "4        2\n"
     ]
    }
   ],
   "source": [
    "# Importa pandas si aún no lo has hecho\n",
    "import pandas as pd\n",
    "\n",
    "# Cargar el conjunto de prueba de características y las etiquetas verdaderas\n",
    "proj_test_data = pd.read_csv(\"proj-test-data.csv\")\n",
    "proj_test_class = pd.read_csv(\"proj-test-class.csv\")\n",
    "\n",
    "proj_test_class['IS_DEAD']=np.where(proj_test_class['IS_DEAD'] == 1, 1, 2)\n",
    "# Visualiza las primeras filas para revisar su estructura\n",
    "print(proj_test_data.head())\n",
    "print(proj_test_class.head())"
   ]
  },
  {
   "cell_type": "markdown",
   "id": "4c93d9b3",
   "metadata": {},
   "source": [
    "### 5.2 Preprocesamiento del conjunto de Prueba\n",
    "\n",
    "Para hacer que el modelo funcione, el conjunto de prueba debe de ser transformado al mismo formato al cual hemos transformado nuestro dataset base por el cual se basa nuestro modelo.\n",
    "\n",
    "Primero eliminamos la columna DATE_DIED:\n"
   ]
  },
  {
   "cell_type": "code",
   "execution_count": 16,
   "id": "79afc58b",
   "metadata": {},
   "outputs": [],
   "source": [
    "X_proj_test = proj_test_data.drop(columns=['DATE_DIED'])\n"
   ]
  },
  {
   "cell_type": "markdown",
   "id": "5766c5ac",
   "metadata": {},
   "source": [
    "Despues, limpiamos y aplicamos el imputer al igual que hemos hecho en el conjunto de entrenamiento:"
   ]
  },
  {
   "cell_type": "code",
   "execution_count": 17,
   "id": "47ed8acb",
   "metadata": {},
   "outputs": [],
   "source": [
    "imputer = SimpleImputer(strategy='most_frequent')\n",
    "X_train_imputed = imputer.fit_transform(X_train)\n",
    "colums = [\n",
    "    'USMER', 'INTUBED', 'PNEUMONIA', 'PREGNANT', 'DIABETES', \n",
    "    'COPD', 'ASTHMA', 'INMSUPR', 'HYPERTENSION', 'OTHER_DISEASE', \n",
    "    'CARDIOVASCULAR', 'OBESITY', 'RENAL_CHRONIC', 'TOBACCO', 'ICU'\n",
    "]\n",
    "\n",
    "for col in colums:\n",
    "    X_proj_test[col] = X_proj_test[col].replace({97: np.nan, 98: np.nan, 99: np.nan})\n",
    "\n",
    "X_proj_test_imputed = imputer.transform(X_proj_test)\n"
   ]
  },
  {
   "cell_type": "markdown",
   "id": "ec3cd8ec",
   "metadata": {},
   "source": [
    "### 5.3 Evaluacion del modelo de clasificacion\n",
    "\n",
    "Por ultimo, entrenamos el modelo para predecir el resultado en los datos de prueba, el cual posteriormente compara las predicciones con las del archivo \"proj-test-class.csv\". Además mostraremos los resultados y la matriz de confusion"
   ]
  },
  {
   "cell_type": "code",
   "execution_count": 18,
   "id": "2b6aacec",
   "metadata": {},
   "outputs": [
    {
     "name": "stdout",
     "output_type": "stream",
     "text": [
      "Accuracy en el conjunto de prueba independiente: 0.93\n",
      "              precision    recall  f1-score   support\n",
      "\n",
      "           1       0.50      1.00      0.67         7\n",
      "           2       1.00      0.92      0.96        93\n",
      "\n",
      "    accuracy                           0.93       100\n",
      "   macro avg       0.75      0.96      0.81       100\n",
      "weighted avg       0.96      0.93      0.94       100\n",
      "\n",
      "Matriz de Confusión:\n",
      "[[ 7  0]\n",
      " [ 7 86]]\n"
     ]
    }
   ],
   "source": [
    "from sklearn.metrics import confusion_matrix\n",
    "y_proj_pred = model_lr.predict(X_proj_test_imputed)\n",
    "\n",
    "print(\"Accuracy en el conjunto de prueba independiente:\", accuracy_score(proj_test_class, y_proj_pred))\n",
    "print(classification_report(proj_test_class, y_proj_pred))\n",
    "\n",
    "cm = confusion_matrix(proj_test_class, y_proj_pred)\n",
    "print(\"Matriz de Confusión:\")\n",
    "print(cm)"
   ]
  },
  {
   "cell_type": "markdown",
   "id": "39b809be",
   "metadata": {},
   "source": [
    "Accuracy global: 93%, lo que indica un buen desempeño general en la predicción.\n",
    "\n",
    "Fallecidos:\n",
    "El modelo detectó correctamente todos los pacientes fallecidos.\n",
    "Sin embargo, cuando predijo que alguien falleció, generó algunos falsos positivos, pero no omitió ningún caso crítico.\n",
    "\n",
    "No fallecidos:\n",
    "El modelo fue excelente al predecir pacientes que no fallecieron y cometió pocos errores al clasificar esta clase.\n",
    "\n",
    "\n",
    "En un contexto sanitario, estos resultados son excelentes, porque se logró detectar todos los casos críticos"
   ]
  },
  {
   "cell_type": "markdown",
   "id": "647e8116",
   "metadata": {},
   "source": [
    "# O2 Predecir la edad del paciente a partir de las demas variables\n",
    "\n",
    "El objetivo O2 consite en predecir la edad de los pacientes utilizando las demas variables que estan en el dataset. Para hacer esto, tenemos que plantear un problema de regresion en el que emplearan tecnicas de preprocesamiento como pueden ser la manipulacion de valores faltantes y la eliminacion de las columnas irrelevantes. Ademas se evaluara distintos modelos. Todo esto nos permite identificar la relacion entre las caracteristicas del paciente con su edad."
   ]
  },
  {
   "cell_type": "markdown",
   "id": "369f83df",
   "metadata": {},
   "source": [
    "## 1. Preparacion del Dataset para la Regresion\n",
    "\n",
    "### 1.1 Seleccionar la Variable Objetivo y las caracteristicas\n",
    "\n",
    "Como queremos predecir la edad (AGE), la variable objetivo sera \"y_age\" y las caracteristicas seran el resto de columnas que creamos utiles. "
   ]
  },
  {
   "cell_type": "code",
   "execution_count": null,
   "id": "96339a4e",
   "metadata": {},
   "outputs": [
    {
     "name": "stdout",
     "output_type": "stream",
     "text": [
      "       USMER  MEDICAL_UNIT  SEX  PATIENT_TYPE  PNEUMONIA  PREGNANT  DIABETES  \\\n",
      "0          2            12    1             1        2.0       2.0       2.0   \n",
      "1          2            12    2             1        2.0       2.0       1.0   \n",
      "2          2             4    2             1        2.0       2.0       2.0   \n",
      "3          2             9    1             1        2.0       2.0       2.0   \n",
      "4          1            12    2             1        2.0       2.0       2.0   \n",
      "...      ...           ...  ...           ...        ...       ...       ...   \n",
      "99995      1            12    1             1        2.0       2.0       2.0   \n",
      "99996      1            12    2             2        1.0       2.0       2.0   \n",
      "99997      2            12    2             2        1.0       2.0       2.0   \n",
      "99998      1            12    1             1        2.0       2.0       2.0   \n",
      "99999      2            12    1             1        2.0       2.0       2.0   \n",
      "\n",
      "       COPD  ASTHMA  INMSUPR  HYPERTENSION  OTHER_DISEASE  CARDIOVASCULAR  \\\n",
      "0       2.0     2.0      2.0           2.0            2.0             2.0   \n",
      "1       2.0     2.0      2.0           2.0            2.0             2.0   \n",
      "2       2.0     2.0      2.0           2.0            2.0             2.0   \n",
      "3       2.0     2.0      2.0           2.0            2.0             1.0   \n",
      "4       2.0     2.0      2.0           1.0            2.0             2.0   \n",
      "...     ...     ...      ...           ...            ...             ...   \n",
      "99995   2.0     2.0      2.0           2.0            2.0             2.0   \n",
      "99996   2.0     2.0      2.0           2.0            2.0             2.0   \n",
      "99997   2.0     2.0      2.0           2.0            2.0             2.0   \n",
      "99998   2.0     2.0      2.0           2.0            2.0             2.0   \n",
      "99999   2.0     2.0      2.0           2.0            2.0             2.0   \n",
      "\n",
      "       OBESITY  RENAL_CHRONIC  TOBACCO  TEST_RESULT  ICU  Fallecido  \n",
      "0          2.0            2.0      2.0            7  NaN          2  \n",
      "1          1.0            2.0      1.0            5  NaN          2  \n",
      "2          1.0            2.0      1.0            3  NaN          2  \n",
      "3          2.0            2.0      2.0            7  NaN          2  \n",
      "4          2.0            2.0      2.0            7  NaN          2  \n",
      "...        ...            ...      ...          ...  ...        ...  \n",
      "99995      2.0            2.0      2.0            3  NaN          2  \n",
      "99996      2.0            2.0      2.0            3  2.0          1  \n",
      "99997      1.0            2.0      2.0            3  2.0          1  \n",
      "99998      1.0            2.0      2.0            3  NaN          2  \n",
      "99999      2.0            2.0      2.0            5  NaN          2  \n",
      "\n",
      "[99618 rows x 19 columns]\n",
      "0         40+\n",
      "1         40+\n",
      "2        0-39\n",
      "3         40+\n",
      "4         40+\n",
      "         ... \n",
      "99995     40+\n",
      "99996     40+\n",
      "99997     40+\n",
      "99998     40+\n",
      "99999     40+\n",
      "Name: AGE_BIN, Length: 99618, dtype: category\n",
      "Categories (2, object): ['0-39' < '40+']\n"
     ]
    }
   ],
   "source": [
    "df = df[df['AGE'].between(0, 110)]\n",
    "\n",
    "# Apply age binning\n",
    "age_bins = [0, 45,  110]\n",
    "age_labels = ['0-44', '45+']\n",
    "df['AGE_BIN'] = pd.cut(df['AGE'], bins=age_bins, labels=age_labels)\n",
    "\n",
    "# Drop rows where AGE_BIN is NaN (can happen if AGE was NaN before filtering)\n",
    "df = df.dropna(subset=['AGE_BIN'])\n",
    "X_age = df.drop(columns=['AGE', 'DATE_DIED', 'AGE_BIN','INTUBED'])  # Drop the intubed one for now bc it has lots of NaNs\n",
    "y_age = df['AGE_BIN']\n",
    "print(X_age)\n",
    "print(y_age)"
   ]
  },
  {
   "cell_type": "code",
   "execution_count": 148,
   "id": "0c7e7d73",
   "metadata": {},
   "outputs": [
    {
     "data": {
      "text/plain": [
       "array([1, 1, 0, ..., 1, 1, 1], shape=(99618,))"
      ]
     },
     "execution_count": 148,
     "metadata": {},
     "output_type": "execute_result"
    }
   ],
   "source": [
    "from sklearn.preprocessing import LabelEncoder\n",
    "label_encoder = LabelEncoder()\n",
    "y_age_encoded = label_encoder.fit_transform(y_age)\n",
    "y_age_encoded"
   ]
  },
  {
   "cell_type": "markdown",
   "id": "92339a2e",
   "metadata": {},
   "source": [
    "## 1.2 Division de los datos tanto en el Entrenamiento como en la Prueba\n",
    "\n",
    "Tenemos que dividir el dataset en \"Entrenamiento\" y en \"Prueba\" para poder evaluar la capacidad de generalizacion del modelo.\n",
    "\n",
    "Lo dividiremos en 80% entrenamiento y 20% prueba"
   ]
  },
  {
   "cell_type": "code",
   "execution_count": 149,
   "id": "59bc025b",
   "metadata": {},
   "outputs": [],
   "source": [
    "\n",
    "X_train_age, X_test_age, y_train_age, y_test_age = train_test_split(X_age, y_age_encoded, test_size=0.2, random_state=42)"
   ]
  },
  {
   "cell_type": "markdown",
   "id": "4919a95f",
   "metadata": {},
   "source": [
    "## 1.3 Comprobacion de valores faltantes\n",
    "\n",
    "Antes de entrenar el modelo, tenemos que comprobar los datos faltantes como paso en la seccion O1. Por lo que usaremos \"SimpleImputer\" para rellenar los valores que falten (NaN). En el caso de las variables numericas podemos usar la \"mediana\".\n"
   ]
  },
  {
   "cell_type": "code",
   "execution_count": 150,
   "id": "57cc2099",
   "metadata": {},
   "outputs": [
    {
     "data": {
      "text/plain": [
       "array([[ 1.,  6.,  1., ...,  7.,  2.,  2.],\n",
       "       [ 1.,  8.,  1., ...,  3.,  2.,  2.],\n",
       "       [ 2., 12.,  2., ...,  7.,  2.,  2.],\n",
       "       ...,\n",
       "       [ 1.,  4.,  1., ...,  7.,  2.,  2.],\n",
       "       [ 2., 12.,  2., ...,  3.,  2.,  2.],\n",
       "       [ 2.,  4.,  1., ...,  3.,  2.,  2.]], shape=(79694, 19))"
      ]
     },
     "execution_count": 150,
     "metadata": {},
     "output_type": "execute_result"
    }
   ],
   "source": [
    "imputer_age = SimpleImputer(strategy='most_frequent')\n",
    "\n",
    "X_train_age_imputed = imputer_age.fit_transform(X_train_age)\n",
    "X_test_age_imputed = imputer_age.transform(X_test_age)\n",
    "X_train_age_imputed"
   ]
  },
  {
   "cell_type": "markdown",
   "id": "988a74f9",
   "metadata": {},
   "source": [
    "## 1.4 Seleccion y entrenamiento del modelo de regresion\n",
    "\n",
    "Podemos hacer dos tipos de regresion: Lineal Simple y RandomForestRegressor (No lineal)"
   ]
  },
  {
   "cell_type": "markdown",
   "metadata": {},
   "source": [
    "### Opcion 1: Regreaion Lineal Simple\n",
    "\n",
    "En esta opcion, entrenamos una regresion lineal, la cual es eun modelo base para evaluar la relacion lineal entre las caracteristicas utiles y la edad."
   ]
  },
  {
   "cell_type": "code",
   "execution_count": 151,
   "id": "c92fab01",
   "metadata": {},
   "outputs": [
    {
     "name": "stdout",
     "output_type": "stream",
     "text": [
      "Accuracy: 0.6881650271029913\n",
      "\n",
      "Classification Report:\n",
      "               precision    recall  f1-score   support\n",
      "\n",
      "           0       0.64      0.88      0.74     10062\n",
      "           1       0.80      0.50      0.61      9862\n",
      "\n",
      "    accuracy                           0.69     19924\n",
      "   macro avg       0.72      0.69      0.68     19924\n",
      "weighted avg       0.72      0.69      0.68     19924\n",
      "\n",
      "Matriz de Confusión:\n",
      "[[8826 1236]\n",
      " [4977 4885]]\n"
     ]
    }
   ],
   "source": [
    "from sklearn.preprocessing import LabelEncoder\n",
    "model_lr_age = RandomForestClassifier(random_state=42)\n",
    "model_lr_age.fit(X_train_age_imputed, y_train_age)\n",
    "\n",
    "y_pred_lr_age = model_lr_age.predict(X_test_age_imputed)\n",
    "y_pred_age_decoded = label_encoder.inverse_transform(y_pred_lr_age)\n",
    "print(\"Accuracy:\", accuracy_score(y_test_age, y_pred_lr_age))\n",
    "print(\"\\nClassification Report:\\n\", classification_report(y_test_age, y_pred_lr_age))\n",
    "cm = confusion_matrix(y_test_age, y_pred_lr_age)\n",
    "print(\"Matriz de Confusión:\")\n",
    "print(cm)"
   ]
  },
  {
   "cell_type": "markdown",
   "id": "deb0d562",
   "metadata": {},
   "source": [
    "Como podemos ver (hablar del modelo linear)."
   ]
  },
  {
   "cell_type": "markdown",
   "id": "454b34a4",
   "metadata": {},
   "source": [
    "### Opcion 2: Random forest regressor\n",
    "\n",
    "En esta opcion, entrenamos una regresion de bosque random, la cual es un modelo base para evaluar la relacion no lineal entre las caracteristicas utiles y la edad, consiguiendo detectar hasta relaciones sutiles."
   ]
  },
  {
   "cell_type": "code",
   "execution_count": 23,
   "id": "0bcbb86f",
   "metadata": {},
   "outputs": [
    {
     "name": "stdout",
     "output_type": "stream",
     "text": [
      "Accuracy: 0.94715\n",
      "\n",
      "Classification Report:\n",
      "               precision    recall  f1-score   support\n",
      "\n",
      "           1       0.73      0.47      0.57      1506\n",
      "           2       0.96      0.99      0.97     18494\n",
      "\n",
      "    accuracy                           0.95     20000\n",
      "   macro avg       0.84      0.73      0.77     20000\n",
      "weighted avg       0.94      0.95      0.94     20000\n",
      "\n",
      "Matriz de Confusión:\n",
      "[[  711   795]\n",
      " [  262 18232]]\n"
     ]
    }
   ],
   "source": [
    "model_lr_age = RandomForestClassifier(random_state=42)\n",
    "model_lr_age.fit(X_train_age_imputed, y_train_age)\n",
    "\n",
    "y_pred_lr_age = model_lr_age.predict(X_test_age_imputed)\n",
    "\n",
    "\n",
    "print(\"Accuracy:\", accuracy_score(y_test, y_pred))\n",
    "print(\"\\nClassification Report:\\n\", classification_report(y_test, y_pred))\n",
    "cm = confusion_matrix(y_test, y_pred)\n",
    "print(\"Matriz de Confusión:\")\n",
    "print(cm)"
   ]
  },
  {
   "cell_type": "markdown",
   "id": "1616e3af",
   "metadata": {},
   "source": []
  }
 ],
 "metadata": {
  "kernelspec": {
   "display_name": "Python 3",
   "language": "python",
   "name": "python3"
  },
  "language_info": {
   "codemirror_mode": {
    "name": "ipython",
    "version": 3
   },
   "file_extension": ".py",
   "mimetype": "text/x-python",
   "name": "python",
   "nbconvert_exporter": "python",
   "pygments_lexer": "ipython3",
   "version": "3.11.9"
  }
 },
 "nbformat": 4,
 "nbformat_minor": 5
}
