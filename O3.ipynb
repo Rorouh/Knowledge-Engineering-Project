{
 "cells": [
  {
   "cell_type": "code",
   "execution_count": null,
   "id": "f2105b95",
   "metadata": {},
   "outputs": [],
   "source": [
    "import pandas as pd\n",
    "\n",
    "df = pd.read_csv(\"custom_covid19.csv\")\n"
   ]
  }
 ],
 "metadata": {
  "language_info": {
   "name": "python"
  }
 },
 "nbformat": 4,
 "nbformat_minor": 5
}
